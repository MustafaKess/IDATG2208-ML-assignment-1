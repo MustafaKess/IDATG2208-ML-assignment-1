{
 "cells": [
  {
   "cell_type": "code",
   "execution_count": null,
   "id": "076ad4d7",
   "metadata": {},
   "outputs": [],
   "source": [
    "import numpy as np\n",
    "import pandas as pd\n",
    "import matplotlib.pyplot as plt\n",
    "\n",
    "# Load dataset\n",
    "df = pd.read_csv(\"archive/WineQT.csv\")\n",
    "\n",
    "# Extract feature and target\n",
    "X = df[\"chlorides\"].values.reshape(-1, 1)\n",
    "y = df[\"quality\"].values\n",
    "\n",
    "# Add bias (intercept) column\n",
    "X_b = np.c_[np.ones((len(X), 1)), X]  # shape (m, 2)\n",
    "\n",
    "# Initialize parameters\n",
    "theta = np.random.randn(2, 1)  # [theta0, theta1]\n",
    "eta = 0.1                      # learning rate\n",
    "n_iterations = 1000\n",
    "m = len(X_b)\n",
    "\n",
    "# Gradient descent loop\n",
    "for iteration in range(n_iterations):\n",
    "    gradients = (2/m) * X_b.T.dot(X_b.dot(theta) - y.reshape(-1, 1))\n",
    "    theta = theta - eta * gradients\n",
    "\n",
    "# Final parameters\n",
    "theta0, theta1 = theta[0, 0], theta[1, 0]\n",
    "print(f\"Fitted model: quality ≈ {theta0:.4f} + {theta1:.4f} * chlorides\")\n",
    "\n",
    "# Plot regression line\n",
    "plt.scatter(X, y, alpha=0.3, label=\"Data\")\n",
    "x_line = np.linspace(X.min(), X.max(), 100).reshape(-1, 1)\n",
    "X_line_b = np.c_[np.ones((len(x_line), 1)), x_line]\n",
    "y_line = X_line_b.dot(theta)\n",
    "plt.plot(x_line, y_line, color=\"red\", linewidth=2, label=\"Regression line\")\n",
    "plt.xlabel(\"Chlorides\")\n",
    "plt.ylabel(\"Quality\")\n",
    "plt.legend()\n",
    "plt.show()\n",
    "\n",
    "\n",
    "\n",
    "print(\"Regression coefficients (BGD):\")\n",
    "print(f\"Intercept (θ0): {theta[0][0]}\")\n",
    "print(f\"Slope (θ1): {theta[1][0]}\")"
   ]
  }
 ],
 "metadata": {
  "language_info": {
   "name": "python"
  }
 },
 "nbformat": 4,
 "nbformat_minor": 5
}
