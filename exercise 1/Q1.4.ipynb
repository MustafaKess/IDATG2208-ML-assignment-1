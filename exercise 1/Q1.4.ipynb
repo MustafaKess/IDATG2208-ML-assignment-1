{
 "cells": [
  {
   "cell_type": "markdown",
   "id": "2bf0a9ea",
   "metadata": {},
   "source": [
    "### Imports and data"
   ]
  },
  {
   "cell_type": "code",
   "execution_count": 12,
   "id": "7337b224",
   "metadata": {},
   "outputs": [],
   "source": [
    "from sklearn.linear_model import SGDRegressor\n",
    "from sklearn.model_selection import KFold\n",
    "from sklearn.preprocessing import StandardScaler\n",
    "from sklearn.metrics import mean_squared_error, r2_score\n",
    "import pandas as pd\n",
    "import numpy as np\n",
    "\n",
    "# Load dataset\n",
    "df = pd.read_csv(\"WineQT.csv\")\n",
    "\n",
    "# Features and target\n",
    "X_alcohol = df[\"alcohol\"].values.reshape(-1, 1)\n",
    "X_chlorides = df[\"chlorides\"].values.reshape(-1, 1)\n",
    "\n",
    "y = df[\"quality\"].values"
   ]
  },
  {
   "cell_type": "markdown",
   "id": "8d9ff1e1",
   "metadata": {},
   "source": [
    "### Sklearn's SGD function"
   ]
  },
  {
   "cell_type": "code",
   "execution_count": null,
   "id": "6b8cf48c",
   "metadata": {},
   "outputs": [
    {
     "name": "stdout",
     "output_type": "stream",
     "text": [
      "\n",
      "Evaluating Chlorides with 5-fold cross-validation:\n",
      "Fold 1: MSE=0.5590, RMSE=0.7477, R²=-0.0046\n",
      "Fold 2: MSE=0.7270, RMSE=0.8526, R²=0.0128\n",
      "Fold 3: MSE=0.6591, RMSE=0.8118, R²=0.0275\n",
      "Fold 4: MSE=0.6658, RMSE=0.8160, R²=0.0245\n",
      "Fold 5: MSE=0.5916, RMSE=0.7692, R²=-0.0057\n",
      "\n",
      "Summary statistics: (Chlorides)\n",
      "           MSE      RMSE        R2\n",
      "mean  0.640508  0.799461  0.010886\n",
      "std   0.066123  0.041384  0.015661\n",
      "min   0.559044  0.747692 -0.005741\n",
      "max   0.726972  0.852626  0.027457\n",
      "\n",
      "Evaluating Alcohol with 5-fold cross-validation:\n",
      "Fold 1: MSE=0.4180, RMSE=0.6465, R²=0.2489\n",
      "Fold 2: MSE=0.5902, RMSE=0.7683, R²=0.1985\n",
      "Fold 3: MSE=0.5145, RMSE=0.7173, R²=0.2408\n",
      "Fold 4: MSE=0.5002, RMSE=0.7073, R²=0.2671\n",
      "Fold 5: MSE=0.4634, RMSE=0.6807, R²=0.2122\n",
      "\n",
      "Summary statistics: (Alcohol)\n",
      "           MSE      RMSE        R2\n",
      "mean  0.497259  0.704008  0.233520\n",
      "std   0.063989  0.045172  0.027839\n",
      "min   0.417962  0.646500  0.198529\n",
      "max   0.590210  0.768252  0.267143\n"
     ]
    }
   ],
   "source": [
    "# Feature and target\n",
    "X_chl = df[[\"chlorides\"]].values\n",
    "X_alc = df[[\"alcohol\"]].values\n",
    "y = df[\"quality\"].values\n",
    "\n",
    "def evaluate_feature_sgd(X, y, feature_name, eta=0.01, max_iter=1000):\n",
    "    kf = KFold(n_splits=5, shuffle=True, random_state=42) # 5 different folds \n",
    "    results = []\n",
    "\n",
    "    print(f\"\\nEvaluating {feature_name} with 5-fold cross-validation:\")\n",
    "\n",
    "    for fold, (train_idx, test_idx) in enumerate(kf.split(X), 1):\n",
    "        X_train, X_test = X[train_idx], X[test_idx]\n",
    "        y_train, y_test = y[train_idx], y[test_idx]\n",
    "\n",
    "        # Scale features\n",
    "        scaler = StandardScaler()\n",
    "        X_train_scaled = scaler.fit_transform(X_train)\n",
    "        X_test_scaled = scaler.transform(X_test)\n",
    "\n",
    "        # Train SGDRegressor\n",
    "        sgd = SGDRegressor(max_iter=max_iter, tol=1e-3, eta0=eta, random_state=42)\n",
    "        sgd.fit(X_train_scaled, y_train)\n",
    "        y_pred = sgd.predict(X_test_scaled)\n",
    "\n",
    "        # Metrics\n",
    "        mse = mean_squared_error(y_test, y_pred)\n",
    "        rmse = np.sqrt(mse)\n",
    "        r2 = r2_score(y_test, y_pred)\n",
    "\n",
    "        results.append({'Fold': fold, 'MSE': mse, 'RMSE': rmse, 'R2': r2})\n",
    "        print(f\"Fold {fold}: MSE={mse:.4f}, RMSE={rmse:.4f}, R²={r2:.4f}\")\n",
    "\n",
    "    results_df = pd.DataFrame(results)\n",
    "    print(f\"\\nSummary statistics: ({feature_name})\")\n",
    "    print(results_df[['MSE', 'RMSE', 'R2']].agg(['mean', 'std', 'min', 'max']))\n",
    "    return results_df\n",
    "\n",
    "# Evaluate chlorides and alcohol\n",
    "results_chl = evaluate_feature_sgd(X_chl, y, \"Chlorides\")\n",
    "results_alc = evaluate_feature_sgd(X_alc, y, \"Alcohol\")\n"
   ]
  },
  {
   "cell_type": "markdown",
   "id": "0836a6e3",
   "metadata": {},
   "source": [
    "## Q1.4.1 How well does alcohol alone predict wine quality in each split?\n",
    "Looking at alcohol’s RMSE for each fold (≈ 0.65–0.77), the model predicts wine quality moderately well. \n",
    "\n",
    "R² shows how much of the variation in wine quality the model can explain, with higher values meaning a better fit.\n",
    "\n",
    "The R² values (≈ 0.20–0.27) indicate that alcohol explains roughly 20–27% of the variance in quality —\n",
    "\n",
    "## Q1.4.2 How well does chloride alone predict wine quality in each split?\n",
    "\n",
    "Chlorides performs poorly: RMSE ≈ 0.75–0.85, and R² values are around 0 (even negative in some folds). This shows that chlorides alone barely explains any variance in wine quality.\n",
    "\n",
    "## Q1.4.3 Do you think the model underfits? Why?\n",
    "Yes, the models are only using one feature each (out of the 12 features in the dataset), and the R² values are relatively low. \n",
    "\n",
    "## Q1.4.4 Provide the mean and variance from the 5 different folds and comment on the variation in performance across all 5 folds when using alcohol versus chloride.\n",
    "\n",
    "| Feature   | Mean RMSE | Std RMSE | Mean R² | \n",
    "| --------- | --------- | -------- | ------- | \n",
    "| Alcohol   | 0.704     | 0.045    | 0.234   | \n",
    "| Chlorides | 0.799     | 0.041    | 0.011   |\n",
    "\n",
    "Alcohol predicts wine quality better than chlorides, which barely helps, and both models are too simple to capture the full patterns in the data.\n"
   ]
  }
 ],
 "metadata": {
  "kernelspec": {
   "display_name": ".venv",
   "language": "python",
   "name": "python3"
  },
  "language_info": {
   "codemirror_mode": {
    "name": "ipython",
    "version": 3
   },
   "file_extension": ".py",
   "mimetype": "text/x-python",
   "name": "python",
   "nbconvert_exporter": "python",
   "pygments_lexer": "ipython3",
   "version": "3.11.9"
  }
 },
 "nbformat": 4,
 "nbformat_minor": 5
}
